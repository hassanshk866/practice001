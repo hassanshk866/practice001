{
 "cells": [
  {
   "cell_type": "markdown",
   "metadata": {},
   "source": [
    "                                    Question 1:\n",
    "                    Define Object Oriented Programming Language? \n",
    "                                        ANS:\n",
    "                    Python is a multi-paradigm programming language. Meaning, it supports different programming approach. One of the popular approach to solve a programming problem is by creating objects. This is known as Object-Oriented Programming (OOP). An object has two characteristics: • attributes • behavior Example: Parrot is an object, • name, age, color are attributes • singing, dancing are behavior The concept of OOP in Python focuses on creating reusable code. This concept is also known as DRY (Don't Repeat Yourself). In Python, the concept of OOP follows some basic principles: Inheritance: A process of using details from a new class without modifying existing class. Encapsulation: Hiding the private details of a class from other objects. Polymorphism: A concept of using common operation in different ways for different data input."
   ]
  },
  {
   "cell_type": "markdown",
   "metadata": {},
   "source": [
    "                                    Question 2:\n",
    "                List down the Benefits of OOP? \n",
    "                                         ANS:\n",
    "                 The advantages of OOP are mentioned below: •OOP provides a clear modular structure for programs. •It is good for defining abstract data types. •Implementation details are hidden from other modules and other modules has a clearly defined interface. •It is easy to maintain and modify existing code as new objects can be created with small differences to existing ones. •objects, methods, instance, message passing, inheritance are some important properties provided by these particular languages •Encapsulation, polymorphism, abstraction are also counts in these fundamentals of programming language. •It implements real life scenario. •In OOP, programmer not only defines data types but also deals with operations applied for data structures."
   ]
  },
  {
   "cell_type": "markdown",
   "metadata": {},
   "source": [
    "                                    Question 3:\n",
    "                Differentiate between function and method? \n",
    "                                         ANS: \n",
    "                The difference between function and method are given below. \n",
    "                                     (1) Method\n",
    "\n",
    "                 Method is called by its name, but it is associated to an object (dependent).\n",
    "                 A method is implicitly passed the object on which it is invoked.\n",
    "                 It may or may not return any data.\n",
    "                 A method can operate on the data (instance variables) that is contained by the corresponding class.\n",
    "                                    (2) Function\n",
    "\n",
    "                Function is block of code that is also called by its name. (independent)\n",
    "\n",
    "                The function can have different parameters or may not have any at all. If any data (parameters) are passed, they are passed explicitly.\n",
    "\n",
    "                It may or may not return any data.\n",
    "\n",
    "                 Function does not deal with Class and its instance concept."
   ]
  },
  {
   "cell_type": "markdown",
   "metadata": {},
   "source": [
    "                                        Question 4:\n",
    "\n",
    "                            Define the following terms:\n",
    "                            1. Class\n",
    "                            2. Object\n",
    "                            3. Attribute\n",
    "                            4. Behavior\n",
    "                                               ANS:\n",
    "                                  (1) Class:\n",
    " The class can be defined as a collection of objects. It is a logical entity that has some specific attributes and methods. \n",
    "For example:\n",
    "\n",
    "          if you have an employee class then it should contain an attribute and method, i.e. an email id, name, age, salary, etc.\n",
    "                                  (2) Object\n",
    "          The object is an entity that has state and behavior. It may be any real-world object like the mouse, keyboard, chair, table, pen, etc.\n",
    "\n",
    "           Everything in Python is an object, and almost everything has attributes and methods. All functions have a built-in attribute __doc__, which returns the doc string defined in the function source code.\n",
    "\n",
    "                                     (3) Attribute\n",
    "           All classes create objects, and all objects contain characteristics called attributes (referred to as properties in the opening paragraph). \n",
    "\n",
    "                                      (4) Behavior\n",
    "\n",
    "            While the class is the blueprint, an instance is a copy of the class with actual values, literally an object belonging to a specific class. It’s not an idea anymore; it’s an actual animal, like a dog named Roger who’s eight years old."
   ]
  },
  {
   "cell_type": "code",
   "execution_count": 2,
   "metadata": {},
   "outputs": [
    {
     "name": "stdout",
     "output_type": "stream",
     "text": [
      "7\n",
      "red\n",
      "12\n",
      "black\n",
      "14\n",
      "6\n",
      "8\n"
     ]
    }
   ],
   "source": [
    "class Car(object):\n",
    "    def __init__(self, model, passengers, color, speed):\n",
    "        self.model = model\n",
    "        self.passengers = passengers\n",
    "        self.color = color\n",
    "        self.speed = speed\n",
    "\n",
    "    def accelerate(self):\n",
    "        self.speed = self.speed + 2\n",
    "        print (self.speed)\n",
    "\n",
    "bmw = Car(\"BMW\", 4, \"red\", 5)\n",
    "ferrari = Car(\"Ferrari\", 2, \"black\", 10)\n",
    "ford = Car(\"Ford\", 6, \"blue\", 6)\n",
    "\n",
    "bmw.accelerate()\n",
    "print (bmw.color)\n",
    "\n",
    "ferrari.accelerate()\n",
    "print (ferrari.color)\n",
    "ferrari.accelerate() \n",
    "\n",
    "print (ford.passengers)\n",
    "ford.accelerate()"
   ]
  },
  {
   "cell_type": "code",
   "execution_count": null,
   "metadata": {},
   "outputs": [],
   "source": []
  }
 ],
 "metadata": {
  "kernelspec": {
   "display_name": "Python 3",
   "language": "python",
   "name": "python3"
  },
  "language_info": {
   "codemirror_mode": {
    "name": "ipython",
    "version": 3
   },
   "file_extension": ".py",
   "mimetype": "text/x-python",
   "name": "python",
   "nbconvert_exporter": "python",
   "pygments_lexer": "ipython3",
   "version": "3.7.4"
  }
 },
 "nbformat": 4,
 "nbformat_minor": 2
}
