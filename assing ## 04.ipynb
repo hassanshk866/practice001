{
 "cells": [
  {
   "cell_type": "code",
   "execution_count": 1,
   "metadata": {},
   "outputs": [
    {
     "name": "stdout",
     "output_type": "stream",
     "text": [
      "Muhammad Hassan\n",
      "Shaikh \n",
      "22\n",
      "karachi the city of light a\n",
      "bachlers form uet lahore: ahsan\n",
      "phf from karachi university: [Update] aliya\n",
      "phd from university of austria : [Addition] muntaha\n",
      "12\n",
      "English\n",
      "30\n",
      "{1: 31, 2: 28, 3: 31, 4: 30, 5: 31}\n",
      "(5, 31)\n",
      "{1: 31, 2: 28, 3: 31, 4: 30}\n"
     ]
    },
    {
     "ename": "KeyError",
     "evalue": "5",
     "output_type": "error",
     "traceback": [
      "\u001b[1;31m---------------------------------------------------------------------------\u001b[0m",
      "\u001b[1;31mKeyError\u001b[0m                                  Traceback (most recent call last)",
      "\u001b[1;32m<ipython-input-1-1887795da20f>\u001b[0m in \u001b[0;36m<module>\u001b[1;34m\u001b[0m\n\u001b[0;32m     26\u001b[0m \u001b[0mprint\u001b[0m\u001b[1;33m(\u001b[0m\u001b[0msixMonths\u001b[0m\u001b[1;33m.\u001b[0m\u001b[0mpopitem\u001b[0m\u001b[1;33m(\u001b[0m\u001b[1;33m)\u001b[0m\u001b[1;33m)\u001b[0m\u001b[1;33m\u001b[0m\u001b[1;33m\u001b[0m\u001b[0m\n\u001b[0;32m     27\u001b[0m \u001b[0mprint\u001b[0m\u001b[1;33m(\u001b[0m\u001b[0msixMonths\u001b[0m\u001b[1;33m)\u001b[0m\u001b[1;33m\u001b[0m\u001b[1;33m\u001b[0m\u001b[0m\n\u001b[1;32m---> 28\u001b[1;33m \u001b[1;32mdel\u001b[0m \u001b[0msixMonths\u001b[0m\u001b[1;33m[\u001b[0m\u001b[1;36m5\u001b[0m\u001b[1;33m]\u001b[0m\u001b[1;33m\u001b[0m\u001b[1;33m\u001b[0m\u001b[0m\n\u001b[0m\u001b[0;32m     29\u001b[0m \u001b[0mprint\u001b[0m\u001b[1;33m(\u001b[0m\u001b[0msixMonths\u001b[0m\u001b[1;33m)\u001b[0m\u001b[1;33m\u001b[0m\u001b[1;33m\u001b[0m\u001b[0m\n\u001b[0;32m     30\u001b[0m \u001b[0msixMonths\u001b[0m\u001b[1;33m.\u001b[0m\u001b[0mclear\u001b[0m\u001b[1;33m(\u001b[0m\u001b[1;33m)\u001b[0m\u001b[1;33m\u001b[0m\u001b[1;33m\u001b[0m\u001b[0m\n",
      "\u001b[1;31mKeyError\u001b[0m: 5"
     ]
    }
   ],
   "source": [
    "person = {\n",
    "    'first_name': 'Muhammad Hassan',\n",
    "    'last_name': 'Shaikh ',\n",
    "    'age': 22,\n",
    "    'city': 'karachi the city of light a',\n",
    "    }\n",
    "\n",
    "print(person['first_name'])\n",
    "print(person['last_name'])\n",
    "print(person['age'])\n",
    "print(person['city'])\n",
    "misc_dict = {'class': 'senior secondary', 1: [1, 2, 3,4,5]}\n",
    "dict = {'Student Name': 'ahsan', 'Roll No.': 12, 'Subject': 'English'}\n",
    "print(\"bachlers form uet lahore:\", dict.get('Student Name'))\n",
    "dict['Student Name'] = 'aliya'\n",
    "print(\"phf from karachi university: [Update]\", dict.get('Student Name'))\n",
    "dict['Student Name'] = 'muntaha'\n",
    "print(\"phd from university of austria : [Addition]\", dict.get('Student Name'))\n",
    "dict = {'Student Name': 'Berry', 'Roll No.': 12, 'Subject': 'English'}\n",
    "print(dict.get('Roll No.'))\n",
    "print(dict.get('Subject'))\n",
    "\n",
    "sixMonths = {1:31, 2:28, 3:31, 4:30, 5:31, 6:30}\n",
    "print(sixMonths.pop(6)) \n",
    "print(sixMonths)\n",
    "print(sixMonths.popitem())\n",
    "print(sixMonths)\n",
    "del sixMonths[5]\n",
    "print(sixMonths)\n",
    "sixMonths.clear()\n",
    "print(sixMonths)\n",
    "del sixMonths\n",
    "print(sixMonths)"
   ]
  },
  {
   "cell_type": "code",
   "execution_count": 3,
   "metadata": {},
   "outputs": [
    {
     "name": "stdout",
     "output_type": "stream",
     "text": [
      "\n",
      "Karachi is in Pakistan.\n",
      "  It has a population of about 6158080.\n",
      "  The Andes mountains are nearby.\n",
      "\n",
      "Sahdadpur is in Pakistan.\n",
      "  It has a population of about 87600.\n",
      "  The Alaska Range mountains are nearby.\n",
      "\n",
      "Lahore is in Pakistan.\n",
      "  It has a population of about 1003285.\n",
      "  The K2 mountains are nearby.\n"
     ]
    }
   ],
   "source": [
    "cities = {\n",
    "    'karachi': {\n",
    "        'country': 'pakistan',\n",
    "        'population': 6158080,\n",
    "        'nearby mountains': 'andes',\n",
    "        },\n",
    "    'sahdadpur': {\n",
    "        'country': 'pakistan',\n",
    "        'population': 87600,\n",
    "        'nearby mountains': 'alaska range',\n",
    "        },\n",
    "    'lahore': {\n",
    "        'country': 'pakistan',\n",
    "        'population': 1003285,\n",
    "        'nearby mountains': 'k2',\n",
    "        }\n",
    "    }\n",
    "\n",
    "for city, city_info in cities.items():\n",
    "    country = city_info['country'].title()\n",
    "    population = city_info['population']\n",
    "    mountains = city_info['nearby mountains'].title()\n",
    "\n",
    "    print(\"\\n\" + city.title() + \" is in \" + country + \".\")\n",
    "    print(\"  It has a population of about \" + str(population) + \".\")\n",
    "    print(\"  The \" + mountains + \" mountains are nearby.\")"
   ]
  },
  {
   "cell_type": "code",
   "execution_count": 4,
   "metadata": {},
   "outputs": [
    {
     "name": "stdout",
     "output_type": "stream",
     "text": [
      "How old are you?\n",
      "Enter 'quit' when you are finished. 4\n",
      "  Your ticket is $10.\n",
      "How old are you?\n",
      "Enter 'quit' when you are finished. 44\n",
      "  Your ticket is $15.\n",
      "How old are you?\n",
      "Enter 'quit' when you are finished. 2\n",
      "  You get in free!\n",
      "How old are you?\n",
      "Enter 'quit' when you are finished. 89\n",
      "  Your ticket is $15.\n",
      "How old are you?\n",
      "Enter 'quit' when you are finished. 101\n",
      "  Your ticket is $15.\n",
      "How old are you?\n",
      "Enter 'quit' when you are finished. quit\n"
     ]
    }
   ],
   "source": [
    "prompt = \"How old are you?\"\n",
    "prompt += \"\\nEnter 'quit' when you are finished. \"\n",
    "\n",
    "while True:\n",
    "    age = input(prompt)\n",
    "    if age == 'quit':\n",
    "        break\n",
    "    age = int(age)\n",
    "\n",
    "    if age < 3:\n",
    "        print(\"  You get in free!\")\n",
    "    elif age < 13:\n",
    "        print(\"  Your ticket is $10.\")\n",
    "    else:\n",
    "        print(\"  Your ticket is $15.\")"
   ]
  },
  {
   "cell_type": "code",
   "execution_count": 5,
   "metadata": {},
   "outputs": [
    {
     "name": "stdout",
     "output_type": "stream",
     "text": [
      "technology for all this is the  best book or my favourite book.\n"
     ]
    }
   ],
   "source": [
    "def favorite_book(title):\n",
    "    \"\"\"Display a message about someone's favorite book.\"\"\"\n",
    "    print(title + \" this is the  best book or my favourite book.\")\n",
    "\n",
    "favorite_book('technology for all')"
   ]
  },
  {
   "cell_type": "code",
   "execution_count": null,
   "metadata": {},
   "outputs": [
    {
     "name": "stdout",
     "output_type": "stream",
     "text": [
      "gues_number.py\n",
      "GUESS NUMBER >1 AND <30 \n",
      "14\n",
      "1 <your number< 30\n",
      "14\n",
      "bingo answer is 14\n",
      "Press ENTER to continue for another guess file\n"
     ]
    }
   ],
   "source": [
    "import random\n",
    " \n",
    "print(\"gues_number.py\")\n",
    "print(\"GUESS NUMBER >1 AND <30 \")\n",
    "answer = random.randint(1, 30)\n",
    "print(answer)\n",
    " \n",
    "maximum = 30\n",
    "maximum2 = 40\n",
    "minimum = 1\n",
    "new_min = 1\n",
    "new_max2 = 10\n",
    " \n",
    "print(minimum, \"<your number<\", maximum)\n",
    " \n",
    "while True:\n",
    "    guess = int(input())\n",
    "    if guess == answer:\n",
    "        print(\"bingo answer is\", answer)\n",
    "        break\n",
    "    elif guess < answer:\n",
    "        print(\"wrong answer, guess larger\")\n",
    "        new_max = guess\n",
    "        new_min = guess\n",
    "        print(guess, \"<?<\", new_max2)\n",
    "    else:\n",
    "        answer < guess\n",
    "        print(\"wrong answer, guess smaller\")\n",
    "        new_max2 = guess\n",
    "        new_min2 = guess\n",
    "        print(new_min, \"<?<\", guess)\n",
    "input(\"Press ENTER to continue for another guess file\")\n",
    "secret_number = 34\n",
    "tries, guess = 0, 0\n",
    "while guess != secret_number:\n",
    "    guess = int(input(\"Guess a number (<30): \"))\n",
    "    if guess > secret_number:\n",
    "        print(\"Lower...\")\n",
    "    elif guess < secret_number:\n",
    "        print(\"Higher...\")\n",
    "    tries += 1\n",
    " \n",
    "print('You guessed it! The number was {} in {} tries'.format(guess, tries))\n",
    "#input(\"Press ENTER to continue\")"
   ]
  },
  {
   "cell_type": "code",
   "execution_count": null,
   "metadata": {},
   "outputs": [],
   "source": [
    "\n",
    "\n"
   ]
  },
  {
   "cell_type": "code",
   "execution_count": null,
   "metadata": {},
   "outputs": [],
   "source": []
  }
 ],
 "metadata": {
  "kernelspec": {
   "display_name": "Python 3",
   "language": "python",
   "name": "python3"
  },
  "language_info": {
   "codemirror_mode": {
    "name": "ipython",
    "version": 3
   },
   "file_extension": ".py",
   "mimetype": "text/x-python",
   "name": "python",
   "nbconvert_exporter": "python",
   "pygments_lexer": "ipython3",
   "version": "3.7.4"
  }
 },
 "nbformat": 4,
 "nbformat_minor": 2
}
